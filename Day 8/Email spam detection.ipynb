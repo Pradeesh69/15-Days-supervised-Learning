{
 "cells": [
  {
   "cell_type": "markdown",
   "id": "a6b664e5",
   "metadata": {},
   "source": [
    "# Spam Detection in Emails\n",
    "\n",
    "This project aims to build a spam detection system using a logistic regression model on a dataset of emails.and evaluate the model's performance.\n",
    "\n",
    "## Libraries Used\n",
    "\n",
    "We will be using the following libraries:\n",
    "- `numpy` for numerical operations\n",
    "- `pandas` for data manipulation\n",
    "- `matplotlib` for data visualization\n",
    "- `sklearn` for machine learning and evaluation metrics\n"
   ]
  },
  {
   "cell_type": "code",
   "execution_count": 1,
   "id": "7cdf7b8e",
   "metadata": {},
   "outputs": [],
   "source": [
    "# Import necessary libraries\n",
    "import numpy as np\n",
    "import pandas as pd\n",
    "import matplotlib.pyplot as plt\n",
    "import seaborn as sns\n",
    "from sklearn.feature_extraction.text import TfidfVectorizer\n",
    "from sklearn.model_selection import train_test_split\n",
    "from sklearn.linear_model import LogisticRegression\n",
    "from sklearn.metrics import classification_report, confusion_matrix, ConfusionMatrixDisplay\n",
    "\n",
    "# Set up the matplotlib inline for Jupyter Notebooks\n",
    "%matplotlib inline\n"
   ]
  },
  {
   "cell_type": "code",
   "execution_count": 2,
   "id": "c36f3698",
   "metadata": {},
   "outputs": [
    {
     "data": {
      "text/html": [
       "<div>\n",
       "<style scoped>\n",
       "    .dataframe tbody tr th:only-of-type {\n",
       "        vertical-align: middle;\n",
       "    }\n",
       "\n",
       "    .dataframe tbody tr th {\n",
       "        vertical-align: top;\n",
       "    }\n",
       "\n",
       "    .dataframe thead th {\n",
       "        text-align: right;\n",
       "    }\n",
       "</style>\n",
       "<table border=\"1\" class=\"dataframe\">\n",
       "  <thead>\n",
       "    <tr style=\"text-align: right;\">\n",
       "      <th></th>\n",
       "      <th>text</th>\n",
       "      <th>spam</th>\n",
       "    </tr>\n",
       "  </thead>\n",
       "  <tbody>\n",
       "    <tr>\n",
       "      <th>0</th>\n",
       "      <td>Subject: naturally irresistible your corporate...</td>\n",
       "      <td>1</td>\n",
       "    </tr>\n",
       "    <tr>\n",
       "      <th>1</th>\n",
       "      <td>Subject: the stock trading gunslinger  fanny i...</td>\n",
       "      <td>1</td>\n",
       "    </tr>\n",
       "    <tr>\n",
       "      <th>2</th>\n",
       "      <td>Subject: unbelievable new homes made easy  im ...</td>\n",
       "      <td>1</td>\n",
       "    </tr>\n",
       "    <tr>\n",
       "      <th>3</th>\n",
       "      <td>Subject: 4 color printing special  request add...</td>\n",
       "      <td>1</td>\n",
       "    </tr>\n",
       "    <tr>\n",
       "      <th>4</th>\n",
       "      <td>Subject: do not have money , get software cds ...</td>\n",
       "      <td>1</td>\n",
       "    </tr>\n",
       "  </tbody>\n",
       "</table>\n",
       "</div>"
      ],
      "text/plain": [
       "                                                text  spam\n",
       "0  Subject: naturally irresistible your corporate...     1\n",
       "1  Subject: the stock trading gunslinger  fanny i...     1\n",
       "2  Subject: unbelievable new homes made easy  im ...     1\n",
       "3  Subject: 4 color printing special  request add...     1\n",
       "4  Subject: do not have money , get software cds ...     1"
      ]
     },
     "execution_count": 2,
     "metadata": {},
     "output_type": "execute_result"
    }
   ],
   "source": [
    "# Load the dataset\n",
    "df = pd.read_csv('emails.csv')\n",
    "\n",
    "# Display the first few rows\n",
    "df.head()"
   ]
  },
  {
   "cell_type": "code",
   "execution_count": 3,
   "id": "08b6ba94",
   "metadata": {},
   "outputs": [
    {
     "name": "stdout",
     "output_type": "stream",
     "text": [
      "<class 'pandas.core.frame.DataFrame'>\n",
      "RangeIndex: 5728 entries, 0 to 5727\n",
      "Data columns (total 2 columns):\n",
      " #   Column  Non-Null Count  Dtype \n",
      "---  ------  --------------  ----- \n",
      " 0   text    5728 non-null   object\n",
      " 1   spam    5728 non-null   int64 \n",
      "dtypes: int64(1), object(1)\n",
      "memory usage: 89.6+ KB\n"
     ]
    }
   ],
   "source": [
    "#information about the dataset\n",
    "df.info()"
   ]
  },
  {
   "cell_type": "code",
   "execution_count": 4,
   "id": "0f9611a0",
   "metadata": {},
   "outputs": [
    {
     "name": "stdout",
     "output_type": "stream",
     "text": [
      "Missing values:\n",
      " text    0\n",
      "spam    0\n",
      "dtype: int64\n",
      "Duplicate rows:\n",
      " 33\n"
     ]
    }
   ],
   "source": [
    "# Check for missing values and duplicates\n",
    "print(\"Missing values:\\n\", df.isnull().sum())\n",
    "print(\"Duplicate rows:\\n\", df.duplicated().sum())\n",
    "\n",
    "# Drop duplicates\n",
    "df = df.drop_duplicates()"
   ]
  },
  {
   "cell_type": "code",
   "execution_count": 5,
   "id": "cc982675",
   "metadata": {},
   "outputs": [
    {
     "data": {
      "image/png": "[encoded data removed]",
      "text/plain": [
       "<Figure size 640x480 with 1 Axes>"
      ]
     },
     "metadata": {},
     "output_type": "display_data"
    }
   ],
   "source": [
    "# Visualize the distribution of spam and ham emails\n",
    "spam_count = df['spam'].value_counts()\n",
    "spam_percentage = (spam_count / len(df)) * 100\n",
    "plt.pie(spam_percentage, labels=['Ham', 'Spam'], autopct='%1.1f%%',startangle=90)\n",
    "plt.title(\"Percentage of Spam vs Ham Emails\")\n",
    "plt.show()"
   ]
  },
  {
   "cell_type": "markdown",
   "id": "b9bf63ea",
   "metadata": {},
   "source": [
    "## Data Preprocessing\n",
    "\n",
    "We will clean the email text by removing the 'Subject:' prefix and undersample the ham emails to match the number of spam emails for a balanced dataset.\n"
   ]
  },
  {
   "cell_type": "code",
   "execution_count": 6,
   "id": "bf53734d",
   "metadata": {},
   "outputs": [],
   "source": [
    "# Function to remove 'Subject:' from the email text\n",
    "def remover(x):\n",
    "    return x.replace('Subject:', \"\")\n",
    "\n",
    "# Apply the remover function to the 'text' column\n",
    "df['text'] = df['text'].apply(remover)"
   ]
  },
  {
   "cell_type": "code",
   "execution_count": 7,
   "id": "6e54e6c5",
   "metadata": {},
   "outputs": [],
   "source": [
    "# Create subsets of ham and spam emails\n",
    "ham_rows = df[df['spam'] == 0]\n",
    "spam_rows = df[df['spam'] == 1]\n",
    "\n",
    "# Undersample ham emails to match the number of spam emails\n",
    "ham_rows = ham_rows.sample(n=len(spam_rows), random_state=42)\n",
    "undersampled_data = pd.concat([ham_rows, spam_rows])\n",
    "\n",
    "# Shuffle the undersampled dataset\n",
    "undersampled_data = undersampled_data.sample(frac=1, random_state=12).reset_index(drop=True)"
   ]
  },
  {
   "cell_type": "code",
   "execution_count": 8,
   "id": "c30edeb6",
   "metadata": {},
   "outputs": [
    {
     "data": {
      "image/png": "[encoded data removed]",
      "text/plain": [
       "<Figure size 640x480 with 1 Axes>"
      ]
     },
     "metadata": {},
     "output_type": "display_data"
    }
   ],
   "source": [
    "# Visualize the distribution after undersampling\n",
    "plt.pie(undersampled_data['spam'].value_counts() / len(undersampled_data) * 100, labels=['Ham', 'Spam'],\n",
    "        autopct='%1.1f%%', startangle=90)\n",
    "plt.title(\"Percentage of Spam vs Ham Emails After Undersampling\")\n",
    "plt.show()"
   ]
  },
  {
   "cell_type": "markdown",
   "id": "c95d3041",
   "metadata": {},
   "source": [
    "## Feature Extraction\n",
    "\n",
    "We will transform the text data into numerical format using TF-IDF vectorization.\n"
   ]
  },
  {
   "cell_type": "code",
   "execution_count": 9,
   "id": "57832a91",
   "metadata": {},
   "outputs": [],
   "source": [
    "# Prepare the features and target variable\n",
    "X = undersampled_data['text']\n",
    "y = undersampled_data['spam']\n",
    "\n",
    "# Transform the text data using TF-IDF\n",
    "vectorizer = TfidfVectorizer(stop_words='english', lowercase=True)\n",
    "X_tfidf_matrix = vectorizer.fit_transform(X)\n"
   ]
  },
  {
   "cell_type": "markdown",
   "id": "c6b13aef",
   "metadata": {},
   "source": [
    "## Model Training and Evaluation\n",
    "\n",
    "We will split the data into training and test sets, train a logistic regression model, and evaluate its performance using a confusion matrix and classification report.\n"
   ]
  },
  {
   "cell_type": "code",
   "execution_count": 10,
   "id": "d58a76a9",
   "metadata": {},
   "outputs": [],
   "source": [
    "# Split the data into training and test sets\n",
    "X_train, X_test, y_train, y_test = train_test_split(X_tfidf_matrix, y, test_size=0.3, random_state=42)\n",
    "\n",
    "# Train the logistic regression model\n",
    "lr_model = LogisticRegression()\n",
    "lr_model.fit(X_train, y_train)\n",
    "\n",
    "# Make predictions on the test set\n",
    "lr_prediction = lr_model.predict(X_test)"
   ]
  },
  {
   "cell_type": "code",
   "execution_count": 11,
   "id": "b43a85af",
   "metadata": {},
   "outputs": [
    {
     "data": {
      "image/png": "[encoded data removed]",
      "text/plain": [
       "<Figure size 640x480 with 2 Axes>"
      ]
     },
     "metadata": {},
     "output_type": "display_data"
    }
   ],
   "source": [
    "# Generate confusion matrix and classification report\n",
    "cm = confusion_matrix(y_test, lr_prediction)\n",
    "disp = ConfusionMatrixDisplay(confusion_matrix=cm)\n",
    "disp.plot()\n",
    "plt.title('Confusion Matrix')\n",
    "plt.show()"
   ]
  },
  {
   "cell_type": "code",
   "execution_count": 12,
   "id": "984e236b",
   "metadata": {},
   "outputs": [
    {
     "name": "stdout",
     "output_type": "stream",
     "text": [
      "              precision    recall  f1-score   support\n",
      "\n",
      "           0       1.00      0.97      0.98       431\n",
      "           1       0.97      1.00      0.98       390\n",
      "\n",
      "    accuracy                           0.98       821\n",
      "   macro avg       0.98      0.98      0.98       821\n",
      "weighted avg       0.98      0.98      0.98       821\n",
      "\n"
     ]
    }
   ],
   "source": [
    "# Print the classification report\n",
    "print(classification_report(y_test, lr_prediction))"
   ]
  },
  {
   "cell_type": "markdown",
   "id": "2be5db63",
   "metadata": {},
   "source": [
    "## Conclusion\n",
    "\n",
    "In this project, we successfully developed a spam detection model using logistic regression. The model demonstrated excellent performance, as evidenced by the following metrics:\n",
    "\n",
    "    Precision: The model achieved a precision of 1.00 for ham emails (class 0) and 0.97 for spam emails (class 1), indicating high accuracy in its positive predictions.\n",
    "    Recall: The recall was 0.97 for ham emails, showing that 97% of actual ham emails were correctly identified. For spam emails, the recall reached 1.00, successfully capturing all actual spam cases.\n",
    "    F1-Score: The F1-score for both classes was approximately 0.98, reflecting a balanced performance between precision and recall.\n",
    "    Overall Accuracy: The model achieved an impressive overall accuracy of 0.98, correctly classifying 98% of the email data."
   ]
  }
 ],
 "metadata": {
  "kernelspec": {
   "display_name": "Python 3 (ipykernel)",
   "language": "python",
   "name": "python3"
  },
  "language_info": {
   "codemirror_mode": {
    "name": "ipython",
    "version": 3
   },
   "file_extension": ".py",
   "mimetype": "text/x-python",
   "name": "python",
   "nbconvert_exporter": "python",
   "pygments_lexer": "ipython3",
   "version": "3.12.4"
  }
 },
 "nbformat": 4,
 "nbformat_minor": 5
}
